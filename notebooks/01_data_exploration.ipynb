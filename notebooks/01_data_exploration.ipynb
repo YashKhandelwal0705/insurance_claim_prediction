{
 "cells": [
  {
   "cell_type": "markdown",
   "metadata": {},
   "source": [
    "# Allstate Claims Severity - Data Exploration\n",
    "\n",
    "This notebook provides an initial exploration of the Allstate Claims Severity dataset."
   ]
  },
  {
   "cell_type": "code",
   "execution_count": null,
   "metadata": {},
   "source": [
    "# Import necessary libraries\n",
    "import pandas as pd\n",
    "import numpy as np\n",
    "import matplotlib.pyplot as plt\n",
    "import seaborn as sns\n",
    "from scipy import stats\n",
    "import warnings\n",
    "warnings.filterwarnings('ignore')\n",
    "\n",
    "# Set plot style\n",
    "plt.style.use('seaborn')\n",
    "sns.set_palette('husl')\n",
    "\n",
    "# Load the data\n",
    "train_df = pd.read_csv('../data/train.csv')\n",
    "test_df = pd.read_csv('../data/test.csv')\n",
    "sample_submission = pd.read_csv('../data/sample_submission.csv')"
   ]
  },
  {
   "cell_type": "markdown",
   "metadata": {},
   "source": [
    "## Data Overview"
   ]
  },
  {
   "cell_type": "code",
   "execution_count": null,
   "metadata": {},
   "source": [
    "# Display basic information about the training dataset\n",
    "print(f'Number of rows in training data: {len(train_df)}')\n",
    "print(f'Number of columns in training data: {len(train_df.columns)}')\n",
    "\n",
    "# Display first few rows\n",
    "train_df.head()"
   ]
  },
  {
   "cell_type": "markdown",
   "metadata": {},
   "source": [
    "## Target Variable Analysis"
   ]
  },
  {
   "cell_type": "code",
   "execution_count": null,
   "metadata": {},
   "source": [
    "# Distribution of the target variable\n",
    "plt.figure(figsize=(12, 6))\n",
    "sns.histplot(train_df['loss'], kde=True, bins=100)\n",
    "plt.title('Distribution of Loss')\n",
    "plt.xlabel('Loss Amount')\n",
    "plt.ylabel('Frequency')\n",
    "plt.show()\n",
    "\n",
    "# Check for skewness\n",
    "print(f'Loss skewness: {train_df[\'loss\'].skew():.2f}')\n",
    "\n",
    "# Log-transform the target variable\n",
    "train_df['log_loss'] = np.log1p(train_df['loss'])\n",
    "plt.figure(figsize=(12, 6))\n",
    "sns.histplot(train_df['log_loss'], kde=True, bins=100)\n",
    "plt.title('Distribution of Log-transformed Loss')\n",
    "plt.xlabel('Log(Loss Amount)')\n",
    "plt.ylabel('Frequency')\n",
    "plt.show()"
   ]
  },
  {
   "cell_type": "markdown",
   "metadata": {},
   "source": [
    "## Feature Analysis"
   ]
  },
  {
   "cell_type": "code",
   "execution_count": null,
   "metadata": {},
   "source": [
    "# Separate categorical and continuous features\n",
    "cat_features = [col for col in train_df.columns if col.startswith('cat') and col != 'loss']\n",
    "cont_features = [col for col in train_df.columns if col.startswith('cont') and col != 'loss']\n",
    "\n",
    "print(f'Number of categorical features: {len(cat_features)}')\n",
    "print(f'Number of continuous features: {len(cont_features)}')"
   ]
  },
  {
   "cell_type": "markdown",
   "metadata": {},
   "source": [
    "## Correlation Analysis"
   ]
  },
  {
   "cell_type": "code",
   "execution_count": null,
   "metadata": {},
   "source": [
    "# Calculate correlations\n",
    "correlations = train_df[cont_features + ['log_loss']].corr()\n",
    "\n",
    "# Plot correlation heatmap\n",
    "plt.figure(figsize=(12, 8))\n",
    "sns.heatmap(correlations, cmap='coolwarm', center=0, annot=True, fmt='.2f')\n",
    "plt.title('Correlation Heatmap of Continuous Features')\n",
    "plt.show()"
   ]
  },
  {
   "cell_type": "markdown",
   "metadata": {},
   "source": [
    "## Missing Values Analysis"
   ]
  },
  {
   "cell_type": "code",
   "execution_count": null,
   "metadata": {},
   "source": [
    "# Check for missing values\n",
    "missing_values = train_df.isnull().sum()\n",
    "missing_values = missing_values[missing_values > 0]\n",
    "\n",
    "if len(missing_values) > 0:\n",
    "    print('Features with missing values:')\n",
    "    print(missing_values)\n",
    "else:\n",
    "    print('No missing values found in the dataset.')"
   ]
  }
 ],
 "metadata": {
  "kernelspec": {
   "display_name": "Python 3",
   "language": "python",
   "name": "python3"
  },
  "language_info": {
   "codemirror_mode": {
    "name": "ipython",
    "version": 3
   },
   "file_extension": ".py",
   "mimetype": "text/x-python",
   "name": "python",
   "nbconvert_exporter": "python",
   "pygments_lexer": "ipython3",
   "version": "3.8.0"
  }
 },
 "nbformat": 4,
 "nbformat_minor": 4
}
