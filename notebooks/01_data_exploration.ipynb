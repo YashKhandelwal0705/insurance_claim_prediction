{
  "cells": [
    {
      "cell_type": "markdown",
      "metadata": {},
      "outputs": [],
      "source": [
        "# Synthetic Insurance Claims Data Exploration\n",
        "\n",
        "This notebook provides an initial exploration of our synthetic insurance claims dataset. The data has been generated to simulate real-world insurance claims while maintaining interpretability and business relevance."
      ]
    },
    {
      "cell_type": "markdown",
      "metadata": {},
      "outputs": [],
      "source": [
        "## Data Generation Overview\n",
        "\n",
        "The synthetic data includes:\n",
        "- Policyholder information (age)\n",
        "- Vehicle information (type, make, age)\n",
        "- Claims history\n",
        "- Accident details\n",
        "- Geographic information\n",
        "- Claim severity amounts"
      ]
    },
    {
      "cell_type": "markdown",
      "metadata": {},
      "outputs": [],
      "source": [
        "## Key Features\n",
        "\n",
        "- Driver age: 18-80 years\n",
        "- Vehicle types: Sedan, SUV, Sports, Truck\n",
        "- Vehicle makes: High-end, Regular\n",
        "- Accident types: Minor, Moderate, Severe\n",
        "- Regions: Urban, Suburban, Rural"
      ]
    },
    {
      "cell_type": "code",
      "execution_count": null,
      "metadata": {},
      "outputs": [],
      "source": [
        "# Import necessary libraries\n",
        "import pandas as pd\n",
        "import numpy as np\n",
        "import matplotlib.pyplot as plt\n",
        "import seaborn as sns\n",
        "from scipy import stats\n",
        "import warnings\n",
        "warnings.filterwarnings('ignore')\n",
        "\n",
        "# Set plot style\n",
        "plt.style.use('seaborn')\n",
        "sns.set_palette('husl')\n",
        "\n",
        "# Load the synthetic data\n",
        "train_df = pd.read_csv('../data/train.csv')\n",
        "test_df = pd.read_csv('../data/test.csv')\n",
        "sample_submission = pd.read_csv('../data/sample_submission.csv')"
      ]
    },
    {
      "cell_type": "markdown",
      "metadata": {},
      "outputs": [],
      "source": [
        "## Synthetic Data Generation\n",
        "The dataset was generated using a combination of:\n",
        "- Realistic distributions (normal distributions for ages, vehicle ages)\n",
        "- Business rules (e.g., young drivers have higher risk)\n",
        "- Multipliers for different factors:\n",
        "  - Vehicle type (SUV: 1.2x, Sports: 1.5x, Truck: 1.3x, Sedan: 1.0x)\n",
        "  - Vehicle make (High-end: 1.5x, Regular: 1.0x)\n",
        "  - Accident severity (Minor: 0.5x, Moderate: 1.0x, Severe: 2.0x)\n",
        "  - Region (Urban: 1.2x, Suburban: 1.0x, Rural: 0.8x)"
      ]
    }
  ],
  "metadata": {
    "kernelspec": {
      "display_name": "Python 3",
      "language": "python",
      "name": "python3"
    },
    "language_info": {
      "codemirror_mode": {
        "name": "ipython",
        "version": 3
      },
      "file_extension": ".py",
      "mimetype": "text/x-python",
      "name": "python",
      "nbconvert_exporter": "python",
      "pygments_lexer": "ipython3",
      "version": "3.8.0"
    }
  },
  "nbformat": 4,
  "nbformat_minor": 4
}