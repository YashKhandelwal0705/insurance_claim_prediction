{
 "cells": [
  {
   "cell_type": "markdown",
   "metadata": {},
   "source": [
    "# Insurance Claim Severity - Exploratory Data Analysis\n",
    "\n",
    "This notebook provides an in-depth analysis of our synthetic insurance claims dataset."
   ]
  },
  {
   "cell_type": "code",
   "execution_count": null,
   "metadata": {},
   "outputs": [],
   "source": [
    "# Import necessary libraries\n",
    "import pandas as pd\n",
    "import numpy as np\n",
    "import matplotlib.pyplot as plt\n",
    "import seaborn as sns\n",
    "from scipy import stats\n",
    "from sklearn.preprocessing import StandardScaler\n",
    "import warnings\n",
    "warnings.filterwarnings('ignore')\n",
    "\n",
    "# Set plot style\n",
    "plt.style.use('seaborn')\n",
    "sns.set_palette('husl')\n",
    "\n",
    "# Load the dataset\n",
    "df = pd.read_csv('../data/train.csv')\n",
    "df.head()"
   ]
  },
  {
   "cell_type": "markdown",
   "metadata": {},
   "source": [
    "## 1. Target Variable Analysis"
   ]
  },
  {
   "cell_type": "code",
   "execution_count": null,
   "metadata": {},
   "outputs": [],
   "source": [
    "# Distribution of claim severity\n",
    "plt.figure(figsize=(12, 6))\n",
    "sns.histplot(df['claim_severity'], kde=True, bins=100)\n",
    "plt.title('Distribution of Claim Severity')\n",
    "plt.xlabel('Claim Amount')\n",
    "plt.ylabel('Frequency')\n",
    "plt.show()\n",
    "\n",
    "# Check skewness\n",
    "print(f\"Claim severity skewness: {df['claim_severity'].skew():.2f}\")\n",
    "\n",
    "# Log-transform the target variable\n",
    "df['log_claim_severity'] = np.log1p(df['claim_severity'])\n",
    "plt.figure(figsize=(12, 6))\n",
    "sns.histplot(df['log_claim_severity'], kde=True, bins=100)\n",
    "plt.title('Distribution of Log-transformed Claim Severity')\n",
    "plt.xlabel('Log(Claim Amount)')\n",
    "plt.ylabel('Frequency')\n",
    "plt.show()\n",
    "\n",
    "# Check skewness after log transformation\n",
    "print(f\"Log-transformed claim severity skewness: {df['log_claim_severity'].skew():.2f}\")"
   ]
  },
  {
   "cell_type": "markdown",
   "metadata": {},
   "source": [
    "## 2. High-Risk Factors Analysis"
   ]
  },
  {
   "cell_type": "code",
   "execution_count": null,
   "metadata": {},
   "outputs": [],
   "source": [
    "# Create bins for analysis\n",
    "df['age_group'] = pd.cut(df['driver_age'], bins=[18, 25, 40, 60, 80],\n",
    "                        labels=['young', 'mid_age', 'senior', 'elderly'])\n",
    "df['vehicle_age_group'] = pd.cut(df['vehicle_age'], bins=[0, 5, 10, 15, 20],\n",
    "                                labels=['new', 'mid_age', 'old', 'very_old'])\n",
    "\n",
    "# Age vs Claim Severity\n",
    "plt.figure(figsize=(12, 6))\n",
    "sns.boxplot(x='age_group', y='log_claim_severity', data=df)\n",
    "plt.title('Claim Severity by Age Group')\n",
    "plt.xlabel('Age Group')\n",
    "plt.ylabel('Log(Claim Amount)')\n",
    "plt.show()\n",
    "\n",
    "# Vehicle Age vs Claim Severity\n",
    "plt.figure(figsize=(12, 6))\n",
    "sns.boxplot(x='vehicle_age_group', y='log_claim_severity', data=df)\n",
    "plt.title('Claim Severity by Vehicle Age Group')\n",
    "plt.xlabel('Vehicle Age Group')\n",
    "plt.ylabel('Log(Claim Amount)')\n",
    "plt.show()\n",
    "\n",
    "# Vehicle Type vs Claim Severity\n",
    "plt.figure(figsize=(12, 6))\n",
    "sns.boxplot(x='vehicle_type', y='log_claim_severity', data=df)\n",
    "plt.title('Claim Severity by Vehicle Type')\n",
    "plt.xlabel('Vehicle Type')\n",
    "plt.ylabel('Log(Claim Amount)')\n",
    "plt.show()\n",
    "\n",
    "# Vehicle Make vs Claim Severity\n",
    "plt.figure(figsize=(12, 6))\n",
    "sns.boxplot(x='vehicle_make', y='log_claim_severity', data=df)\n",
    "plt.title('Claim Severity by Vehicle Make')\n",
    "plt.xlabel('Vehicle Make')\n",
    "plt.ylabel('Log(Claim Amount)')\n",
    "plt.show()"
   ]
  },
  {
   "cell_type": "markdown",
   "metadata": {},
   "source": [
    "## 3. Correlation Analysis"
   ]
  },
  {
   "cell_type": "code",
   "execution_count": null,
   "metadata": {},
   "outputs": [],
   "source": [
    "# Convert categorical variables to dummy variables for correlation analysis\n",
    "df_corr = pd.get_dummies(df)\n",
    "\n",
    "# Calculate correlations\n",
    "correlations = df_corr.corr()[['log_claim_severity']].sort_values(by='log_claim_severity', ascending=False)\n",
    "\n",
    "# Plot correlation heatmap\n",
    "plt.figure(figsize=(12, 8))\n",
    "sns.heatmap(df_corr.corr(), cmap='coolwarm', center=0, annot=False)\n",
    "plt.title('Correlation Heatmap')\n",
    "plt.show()\n",
    "\n",
    "# Display top correlations with claim severity\n",
    "print(\"Top correlations with claim severity:\")\n",
    "print(correlations.head(10))\n",
    "print(\"\n",
    "Bottom correlations with claim severity:\")\n",
    "print(correlations.tail(10))"
   ]
  },
  {
   "cell_type": "markdown",
   "metadata": {},
   "source": [
    "## 4. Interaction Effects"
   ]
  },
  {
   "cell_type": "code",
   "execution_count": null,
   "metadata": {},
   "outputs": [],
   "source": [
    "# Create interaction plots\n",
    "# Age Group vs Vehicle Type\n",
    "plt.figure(figsize=(15, 6))\n",
    "sns.boxplot(x='age_group', y='log_claim_severity', hue='vehicle_type', data=df)\n",
    "plt.title('Claim Severity by Age Group and Vehicle Type')\n",
    "plt.xlabel('Age Group')\n",
    "plt.ylabel('Log(Claim Amount)')\n",
    "plt.legend(title='Vehicle Type')\n",
    "plt.show()\n",
    "\n",
    "# Vehicle Age vs Vehicle Make\n",
    "plt.figure(figsize=(15, 6))\n",
    "sns.boxplot(x='vehicle_age_group', y='log_claim_severity', hue='vehicle_make', data=df)\n",
    "plt.title('Claim Severity by Vehicle Age and Make')\n",
    "plt.xlabel('Vehicle Age Group')\n",
    "plt.ylabel('Log(Claim Amount)')\n",
    "plt.legend(title='Vehicle Make')\n",
    "plt.show()"
   ]
  },
  {
   "cell_type": "markdown",
   "metadata": {},
   "source": [
    "## 5. Summary of Key Insights"
   ]
  },
  {
   "cell_type": "markdown",
   "metadata": {},
   "source": [
    "### Target Variable Distribution\n",
    "- The claim severity distribution is positively skewed\n",
    "- Log transformation improves the distribution\n",
    "\n",
    "### High-Risk Factors\n",
    "1. **Age Groups**:\n",
    "   - Young drivers (18-25) have higher claim severity\n",
    "   - Claim severity generally decreases with age\n",
    "\n",
    "2. **Vehicle Factors**:\n",
    "   - Sports cars have the highest claim severity\n",
    "   - High-end vehicles have significantly higher claims\n",
    "   - Older vehicles tend to have higher claims\n",
    "\n",
    "3. **Interaction Effects**:\n",
    "   - Young drivers with sports cars have the highest risk\n",
    "   - High-end vehicles across all age groups have elevated risk\n",
    "\n",
    "### Recommendations for Feature Engineering\n",
    "1. Create interaction features:\n",
    "   - age_group × vehicle_type\n",
    "   - vehicle_age_group × vehicle_make\n",
    "   - age_group × vehicle_make\n",
    "\n",
    "2. Consider polynomial features for:\n",
    "   - driver_age\n",
    "   - vehicle_age\n",
    "   - past_claims\n",
    "\n",
    "3. Use log-transformed claim severity as the target variable\n",
    "\n",
    "These insights will help guide our feature engineering and model selection process."
   ]
  }
 ],
 "metadata": {
  "kernelspec": {
   "display_name": "Python 3",
   "language": "python",
   "name": "python3"
  },
  "language_info": {
   "codemirror_mode": {
    "name": "ipython",
    "version": 3
   },
   "file_extension": ".py",
   "mimetype": "text/x-python",
   "name": "python",
   "nbconvert_exporter": "python",
   "pygments_lexer": "ipython3",
   "version": "3.8.0"
  }
 },
 "nbformat": 4,
 "nbformat_minor": 4
}
